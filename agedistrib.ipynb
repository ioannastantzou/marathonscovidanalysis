{
 "cells": [
  {
   "cell_type": "code",
   "execution_count": null,
   "id": "01d5a68a",
   "metadata": {},
   "outputs": [],
   "source": [
    "!pip install scikit-posthocs\n",
    "\n",
    "from scipy.stats import normaltest  # D’Agostino and Pearson’s test\n",
    "\n",
    "for period in df['COVID_STATUS'].unique():\n",
    "    ages = df[df['COVID_STATUS'] == period]['Age'].dropna()\n",
    "    stat, p = normaltest(ages)\n",
    "    print(f\"{period}: p-value = {p:.4f}\")\n",
    "\n",
    "from scipy.stats import kruskal\n",
    "\n",
    "ages_before = df[df['COVID_STATUS'] == 'Before COVID']['Age'].dropna()\n",
    "ages_during = df[df['COVID_STATUS'] == 'During COVID']['Age'].dropna()\n",
    "ages_after = df[df['COVID_STATUS'] == 'After COVID']['Age'].dropna()\n",
    "\n",
    "stat, p = kruskal(ages_before, ages_during, ages_after)\n",
    "print(f\"Kruskal–Wallis p-value: {p:.4f}\")\n",
    "\n",
    "import scikit_posthocs as sp\n",
    "import pandas as pd\n",
    "\n",
    "# Δημιουργία πλαισίου για το Dunn’s test\n",
    "df_kruskal = df[['Age', 'COVID_STATUS']].dropna()\n",
    "\n",
    "# Εφαρμογή Dunn’s test\n",
    "posthoc = sp.posthoc_dunn(df_kruskal, val_col='Age', group_col='COVID_STATUS', p_adjust='bonferroni')\n",
    "print(posthoc)\n",
    "\n",
    "sns.kdeplot(data=df, x='Age', hue='COVID_STATUS', common_norm=False)\n",
    "plt.title('Κατανομή ηλικιών ανά περίοδο')\n",
    "plt.xlabel('Ηλικία')\n",
    "plt.ylabel('Πυκνότητα')\n",
    "plt.show()"
   ]
  }
 ],
 "metadata": {
  "language_info": {
   "name": "python"
  }
 },
 "nbformat": 4,
 "nbformat_minor": 5
}
