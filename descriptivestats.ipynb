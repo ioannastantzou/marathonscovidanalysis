{
 "cells": [
  {
   "cell_type": "code",
   "execution_count": null,
   "id": "01caa6a3",
   "metadata": {},
   "outputs": [],
   "source": [
    "import pandas as pd\n",
    "\n",
    "\n",
    "df = pd.read_csv(\"mdata.csv\")\n",
    "def time_to_minutes(t):\n",
    "    \n",
    "    try:\n",
    "        h, m, s = map(int, t.split(':'))\n",
    "        return h * 60 + m + s / 60\n",
    "    except:\n",
    "        return None\n",
    "\n",
    "df['Mark_numeric'] = df['Mark'].apply(time_to_minutes)\n",
    "\n",
    "\n",
    "\n",
    "summary = (\n",
    "    df.groupby(\"COVID_STATUS\")\n",
    "    .agg(\n",
    "        Συμμετοχές=(\"Mark_numeric\", \"count\"),\n",
    "        Μέσος_Χρόνος=(\"Mark_numeric\", \"mean\"),\n",
    "        Τυπ_Απόκλιση=(\"Mark_numeric\", \"std\"),\n",
    "        Μέση_Ηλικία=(\"Age\", \"mean\"),\n",
    "    )\n",
    "    .round(2)\n",
    "    .reset_index()\n",
    ")\n",
    "\n",
    "\n",
    "total_row = pd.DataFrame({\n",
    "    \"COVID_STATUS\": [\"Σύνολο\"],\n",
    "    \"Συμμετοχές\": [df.shape[0]],\n",
    "    \"Μέσος_Χρόνος\": [round(df[\"Mark_numeric\"].mean(), 2)],\n",
    "    \"Τυπ_Απόκλιση\": [round(df[\"Mark_numeric\"].std(), 2)],\n",
    "    \"Μέση_Ηλικία\": [round(df[\"Age\"].mean(), 2)],\n",
    "\n",
    "})\n",
    "\n",
    "\n",
    "summary = pd.concat([summary, total_row], ignore_index=True)\n",
    "\n",
    "\n",
    "print(\" Περιγραφική στατιστική ανά περίοδο COVID:\")\n",
    "print(summary.to_string(index=False))\n"
   ]
  }
 ],
 "metadata": {
  "language_info": {
   "name": "python"
  }
 },
 "nbformat": 4,
 "nbformat_minor": 5
}
