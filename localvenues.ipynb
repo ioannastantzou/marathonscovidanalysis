{
 "cells": [
  {
   "cell_type": "code",
   "execution_count": null,
   "id": "512a8a83",
   "metadata": {},
   "outputs": [],
   "source": [
    "\n",
    "local_venues = df[df[\"Marathon_Type\"] == \"Local\"]\n",
    "\n",
    "\n",
    "local_participation = local_venues.groupby([\"Venue\", \"COVID_STATUS\"]).size().unstack(fill_value=0)\n",
    "local_participation[\"Change_Participation\"] = local_participation.get(\"After COVID\", 0) - local_participation.get(\"Before COVID\", 0)\n",
    "\n",
    "local_good = local_venues[local_venues[\"Sub230\"]]\n",
    "\n",
    "local_performance = local_good.groupby([\"Venue\", \"COVID_STATUS\"]).size().unstack(fill_value=0)\n",
    "local_performance[\"Change_Performance\"] = local_performance.get(\"After COVID\", 0) - local_performance.get(\"Before COVID\", 0)\n",
    "\n",
    "\n",
    "local_participation_sorted = local_participation.sort_values(\"Change_Participation\")\n",
    "local_performance_sorted = local_performance.sort_values(\"Change_Performance\")\n",
    "\n",
    "print(\" Συμμετοχές ανά Local Venue:\")\n",
    "print(local_participation_sorted[[\"Before COVID\", \"After COVID\", \"Change_Participation\"]])\n",
    "\n",
    "print(\" Καλές επιδόσεις (sub 2:30) ανά Local Venue:\")\n",
    "print(local_performance_sorted[[\"Before COVID\", \"After COVID\", \"Change_Performance\"]])"
   ]
  }
 ],
 "metadata": {
  "language_info": {
   "name": "python"
  }
 },
 "nbformat": 4,
 "nbformat_minor": 5
}
