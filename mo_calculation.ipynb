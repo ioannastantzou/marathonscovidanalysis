{
 "cells": [
  {
   "cell_type": "code",
   "execution_count": null,
   "id": "e8ceabd1",
   "metadata": {},
   "outputs": [],
   "source": [
    "import pandas as pd\n",
    "import warnings\n",
    "warnings.filterwarnings('ignore')\n",
    "df = pd.read_csv('mdata.csv')  \n",
    "\n",
    "# Μετατροπή χρόνου σε λεπτά\n",
    "df['Time_minutes'] = pd.to_timedelta(df['Mark'], errors='coerce').dt.total_seconds() / 60\n",
    "\n",
    "# Φιλτράρισμα γραμμών χωρίς φύλο ή χρόνο\n",
    "df_clean = df.dropna(subset=['Sex', 'Time_minutes'])\n",
    "\n",
    "# ΜΟ συνολικά πριν/μετά COVID\n",
    "mean_overall = df_clean.groupby('COVID_STATUS')['Time_minutes'].mean()\n",
    "print(\"Μέσος χρόνος συνολικά:\")\n",
    "print(mean_overall)\n",
    "\n",
    "\n",
    "# ΜΟ για άντρες/γυναίκες πριν και μετά COVID\n",
    "mean_by_sex = df_clean.groupby(['Sex', 'COVID_STATUS'])['Time_minutes'].mean()\n",
    "print(\"\\nΜέσος χρόνος ανά φύλο:\")\n",
    "print(mean_by_sex)\n",
    "\n",
    "\n",
    "\n",
    "\n",
    "bins = [0, 29, 39, 49, 120]  # <30, 30-39, 40-49, 50+\n",
    "labels = ['<30', '30-39', '40-49', '50+']\n",
    "\n",
    "# Φιλτράρισμα και εφαρμογή ομαδοποίησης\n",
    "df_clean_age = df_clean.dropna(subset=['Age']).copy()\n",
    "df_clean_age['Age_Group'] = pd.cut(df_clean_age['Age'], bins=bins, labels=labels)\n",
    "\n",
    "# Υπολογισμός μέσου χρόνου ανά ηλικιακή ομάδα και κατάσταση COVID\n",
    "mean_by_agegroup = df_clean_age.groupby(['Age_Group', 'COVID_STATUS'])['Time_minutes'].mean()\n",
    "\n",
    "print(\"\\nΜέσος χρόνος ανά ηλικιακή ομάδα:\")\n",
    "print(mean_by_agegroup)\n",
    "\n",
    "\n",
    "\n",
    "# ΜΟ ανά ηλικιακή ομάδα, φύλο και COVID\n",
    "import warnings\n",
    "warnings.filterwarnings('ignore')\n",
    "\n",
    "mean_by_age_sex = df_clean_age.groupby(['Age_Group', 'Sex', 'COVID_STATUS'])['Time_minutes'].mean()\n",
    "print(\"\\nΜέσος χρόνος ανά ηλικιακή ομάδα και φύλο:\")\n",
    "print(mean_by_age_sex)"
   ]
  }
 ],
 "metadata": {
  "language_info": {
   "name": "python"
  }
 },
 "nbformat": 4,
 "nbformat_minor": 5
}
