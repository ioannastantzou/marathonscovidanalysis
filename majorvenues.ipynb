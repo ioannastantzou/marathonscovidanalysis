{
 "cells": [
  {
   "cell_type": "code",
   "execution_count": null,
   "id": "3c4ce6ab",
   "metadata": {},
   "outputs": [],
   "source": [
    "import pandas as pd\n",
    "df = pd.read_csv('mdata.csv')\n",
    "major_marathons = [\n",
    "    \"Boston (USA)\", \"London (GBR)\", \"Berlin (GER)\", \"Chicago (USA)\",\n",
    "    \"New York NY (USA)\", \"Tokyo (JPN)\", \"Paris (FRA)\", \"Amsterdam (NED)\",\n",
    "    \"Rotterdam (NED)\", \"Valencia (ESP)\", \"Seville (ESP)\", \"Frankfurt (GER)\",\n",
    "    \"Hamburg (GER)\", \"Milan (ITA)\", \"Rome (ITA)\"\n",
    "]\n",
    "df[\"Marathon_Type\"] = df[\"Venue\"].apply(lambda x: \"Major\" if x in major_marathons else \"Local\")\n",
    "def time_to_seconds(t):\n",
    "    try:\n",
    "        h, m, s = map(int, t.split(':'))\n",
    "        return h * 3600 + m * 60 + s\n",
    "    except:\n",
    "        return None\n",
    "\n",
    "df[\"Time_seconds\"] = df[\"Mark\"].apply(time_to_seconds)\n",
    "sub_230 = 2 * 3600 + 30 * 60\n",
    "df[\"Sub230\"] = df[\"Time_seconds\"] < sub_230\n",
    "major_df = df[df[\"Marathon_Type\"] == \"Major\"]\n",
    "major_venues = df[df[\"Marathon_Type\"] == \"Major\"]\n",
    "major_participation = major_venues.groupby([\"Venue\", \"COVID_STATUS\"]).size().unstack(fill_value=0)\n",
    "major_participation[\"Change_Participation\"] = major_participation.get(\"After COVID\", 0) - major_participation.get(\"Before COVID\", 0)\n",
    "major_good = major_venues[major_venues[\"Sub230\"]]\n",
    "major_performance = major_good.groupby([\"Venue\", \"COVID_STATUS\"]).size().unstack(fill_value=0)\n",
    "major_performance[\"Change_Performance\"] = major_performance.get(\"After COVID\", 0) - major_performance.get(\"Before COVID\", 0)\n",
    "major_participation_sorted = major_participation.sort_values(\"Change_Participation\")\n",
    "major_performance_sorted = major_performance.sort_values(\"Change_Performance\")\n",
    "print(\" Συμμετοχές ανά Major Venue:\")\n",
    "print(major_participation_sorted[[\"Before COVID\", \"After COVID\", \"Change_Participation\"]])\n",
    "print(\"Καλές επιδόσεις (sub 2:30) ανά Major Venue:\")\n",
    "print(major_performance_sorted[[\"Before COVID\", \"After COVID\", \"Change_Performance\"]])\n",
    "existing_major_venues = df[df[\"Venue\"].isin(major_marathons)][\"Venue\"].unique()\n"
   ]
  }
 ],
 "metadata": {
  "language_info": {
   "name": "python"
  }
 },
 "nbformat": 4,
 "nbformat_minor": 5
}
