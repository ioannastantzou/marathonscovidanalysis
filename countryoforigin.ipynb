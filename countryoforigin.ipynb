{
 "cells": [
  {
   "cell_type": "code",
   "execution_count": null,
   "id": "96196ded",
   "metadata": {},
   "outputs": [],
   "source": [
    "import pandas as pd\n",
    "import warnings\n",
    "warnings.filterwarnings('ignore')\n",
    "# Μετατροπή της στήλης Date σε datetime\n",
    "df['Date'] = pd.to_datetime(df['Date'], errors='coerce')\n",
    "# Απόσπαση έτους\n",
    "df['year'] = df['Date'].dt.year\n",
    "\n",
    "# Ορισμός κατάστασης COVID\n",
    "#df['COVID_STATUS'] = df['year'].apply(lambda x: 'Before COVID' if x < 2020 else ('After COVID' if x >= 2021 else 'During COVID'))\n",
    "\n",
    "# Φιλτράρισμα μόνο για γραμμές με Nationality και COVID_STATUS\n",
    "df_filtered = df.dropna(subset=['Country', 'COVID_STATUS'])\n",
    "\n",
    "# Ομαδοποίηση ανά χώρα και κατάσταση COVID\n",
    "country_counts = df_filtered.groupby(['Country', 'COVID_STATUS']).size().unstack(fill_value=0)\n",
    "\n",
    "# Υπολογισμός συνολικών και ποσοστιαίας μεταβολής\n",
    "country_counts['Total'] = country_counts.sum(axis=1)\n",
    "country_counts['Change'] = country_counts.get('After COVID', 0) - country_counts.get('Before COVID', 0)\n",
    "country_counts['% Change'] = (country_counts['Change'] / country_counts.get('Before COVID', 1)) * 100\n",
    "\n",
    "# Ταξινόμηση κατά πτώση\n",
    "country_counts_sorted = country_counts.sort_values(by='Change', ascending=True)\n",
    "\n",
    "print(country_counts_sorted.head(15))  "
   ]
  }
 ],
 "metadata": {
  "language_info": {
   "name": "python"
  }
 },
 "nbformat": 4,
 "nbformat_minor": 5
}
